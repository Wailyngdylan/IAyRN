{
  "cells": [
    {
      "cell_type": "markdown",
      "source": [
        "Equipo 7\n",
        "1.   Samantha Denisse Narvaez Cazares Matricula:1925370\n",
        "2.   Pablo Guadalupe Silva Ibarra Matricula:2035340\n",
        "3.   Maria Fernanda Sosa Martinez Matricula:1992004\n",
        "4.   Brandon Dylan Regil Llovera Matricula:1872756\n",
        "5.   Pedro Eduardo Ramirez Reyna  Matricula:1992263"
      ],
      "metadata": {
        "id": "gNpDrotYttd6"
      }
    },
    {
      "cell_type": "code",
      "execution_count": 7,
      "metadata": {
        "id": "_BZeQui6SNp6"
      },
      "outputs": [],
      "source": [
        "#Importar librerias\n",
        "import cv2\n",
        "import os\n",
        "import matplotlib.pyplot as plt\n",
        "import glob\n",
        "from sklearn.model_selection import train_test_split\n",
        "import tensorflow as tf\n",
        "from tensorflow import keras\n",
        "from tensorflow.keras import datasets, layers, models\n",
        "import numpy as np\n",
        "from keras.layers import Conv2D, MaxPooling2D"
      ]
    },
    {
      "cell_type": "code",
      "execution_count": 8,
      "metadata": {
        "id": "8za-RYG3XK49"
      },
      "outputs": [],
      "source": [
        "imagenes_dataset = []\n",
        "etiquetas_dataset = []"
      ]
    },
    {
      "cell_type": "code",
      "execution_count": 9,
      "metadata": {
        "id": "9AQv2twwXQTB"
      },
      "outputs": [],
      "source": [
        "\n",
        "file = '/content/drive/MyDrive/Inteligencia artificial/PIA/Imagenes de prueba/0' \n",
        "for x in glob.iglob(f'{file}/*.png'):\n",
        "  test_image = cv2.imread(x, cv2.IMREAD_GRAYSCALE )\n",
        "  img_resized = cv2.resize(test_image, (28,28,), interpolation=cv2.INTER_LINEAR )\n",
        "  img_resized = cv2.bitwise_not(img_resized)\n",
        "  imagenes_dataset.append(img_resized)\n",
        "  etiquetas_dataset.append(0)\n",
        "\n",
        "file = '/content/drive/MyDrive/Inteligencia artificial/PIA/Imagenes de prueba/1' \n",
        "for x in glob.iglob(f'{file}/*.png'):\n",
        "  test_image = cv2.imread(x, cv2.IMREAD_GRAYSCALE )\n",
        "  img_resized = cv2.resize(test_image, (28,28,), interpolation=cv2.INTER_LINEAR )\n",
        "  img_resized = cv2.bitwise_not(img_resized)\n",
        "  imagenes_dataset.append(img_resized)\n",
        "  etiquetas_dataset.append(1)\n",
        "\n",
        "file = '/content/drive/MyDrive/Inteligencia artificial/PIA/Imagenes de prueba/2' \n",
        "for x in glob.iglob(f'{file}/*.png'):\n",
        "  test_image = cv2.imread(x, cv2.IMREAD_GRAYSCALE )\n",
        "  img_resized = cv2.resize(test_image, (28,28,), interpolation=cv2.INTER_LINEAR )\n",
        "  img_resized = cv2.bitwise_not(img_resized)\n",
        "  imagenes_dataset.append(img_resized)\n",
        "  etiquetas_dataset.append(2)\n",
        "\n",
        "file = '/content/drive/MyDrive/Inteligencia artificial/PIA/Imagenes de prueba/3' \n",
        "for x in glob.iglob(f'{file}/*.png'):\n",
        "  test_image = cv2.imread(x, cv2.IMREAD_GRAYSCALE )\n",
        "  img_resized = cv2.resize(test_image, (28,28,), interpolation=cv2.INTER_LINEAR )\n",
        "  img_resized = cv2.bitwise_not(img_resized)\n",
        "  imagenes_dataset.append(img_resized)\n",
        "  etiquetas_dataset.append(3)\n",
        "\n",
        "file = '/content/drive/MyDrive/Inteligencia artificial/PIA/Imagenes de prueba/4' \n",
        "for x in glob.iglob(f'{file}/*.png'):\n",
        "  test_image = cv2.imread(x, cv2.IMREAD_GRAYSCALE )\n",
        "  img_resized = cv2.resize(test_image, (28,28,), interpolation=cv2.INTER_LINEAR )\n",
        "  img_resized = cv2.bitwise_not(img_resized)\n",
        "  imagenes_dataset.append(img_resized)\n",
        "  etiquetas_dataset.append(4)\n",
        "\n",
        "file = '/content/drive/MyDrive/Inteligencia artificial/PIA/Imagenes de prueba/5' \n",
        "for x in glob.iglob(f'{file}/*.png'):\n",
        "  test_image = cv2.imread(x, cv2.IMREAD_GRAYSCALE )\n",
        "  img_resized = cv2.resize(test_image, (28,28,), interpolation=cv2.INTER_LINEAR )\n",
        "  img_resized = cv2.bitwise_not(img_resized)\n",
        "  imagenes_dataset.append(img_resized)\n",
        "  etiquetas_dataset.append(5)\n",
        "\n",
        "file = '/content/drive/MyDrive/Inteligencia artificial/PIA/Imagenes de prueba/6' \n",
        "for x in glob.iglob(f'{file}/*.png'):\n",
        "  test_image = cv2.imread(x, cv2.IMREAD_GRAYSCALE )\n",
        "  img_resized = cv2.resize(test_image, (28,28,), interpolation=cv2.INTER_LINEAR )\n",
        "  img_resized = cv2.bitwise_not(img_resized)\n",
        "  imagenes_dataset.append(img_resized)\n",
        "  etiquetas_dataset.append(6)\n",
        "\n",
        "file = '/content/drive/MyDrive/Inteligencia artificial/PIA/Imagenes de prueba/7' \n",
        "for x in glob.iglob(f'{file}/*.png'):\n",
        "  test_image = cv2.imread(x, cv2.IMREAD_GRAYSCALE )\n",
        "  img_resized = cv2.resize(test_image, (28,28,), interpolation=cv2.INTER_LINEAR )\n",
        "  img_resized = cv2.bitwise_not(img_resized)\n",
        "  imagenes_dataset.append(img_resized)\n",
        "  etiquetas_dataset.append(7)\n",
        "\n",
        "file = '/content/drive/MyDrive/Inteligencia artificial/PIA/Imagenes de prueba/8' \n",
        "for x in glob.iglob(f'{file}/*.png'):\n",
        "  test_image = cv2.imread(x, cv2.IMREAD_GRAYSCALE )\n",
        "  img_resized = cv2.resize(test_image, (28,28,), interpolation=cv2.INTER_LINEAR )\n",
        "  img_resized = cv2.bitwise_not(img_resized)\n",
        "  imagenes_dataset.append(img_resized)\n",
        "  etiquetas_dataset.append(8)\n",
        "\n",
        "file = '/content/drive/MyDrive/Inteligencia artificial/PIA/Imagenes de prueba/9' \n",
        "for x in glob.iglob(f'{file}/*.png'):\n",
        "  test_image = cv2.imread(x, cv2.IMREAD_GRAYSCALE )\n",
        "  img_resized = cv2.resize(test_image, (28,28,), interpolation=cv2.INTER_LINEAR )\n",
        "  img_resized = cv2.bitwise_not(img_resized)\n",
        "  imagenes_dataset.append(img_resized)\n",
        "  etiquetas_dataset.append(9)"
      ]
    },
    {
      "cell_type": "code",
      "execution_count": 10,
      "metadata": {
        "colab": {
          "base_uri": "https://localhost:8080/"
        },
        "id": "mmmS7pu2Xvn5",
        "outputId": "39b8db82-ce7e-45ae-c6da-9ed8f791747c"
      },
      "outputs": [
        {
          "output_type": "execute_result",
          "data": {
            "text/plain": [
              "500"
            ]
          },
          "metadata": {},
          "execution_count": 10
        }
      ],
      "source": [
        "len(imagenes_dataset)"
      ]
    },
    {
      "cell_type": "code",
      "execution_count": 11,
      "metadata": {
        "colab": {
          "base_uri": "https://localhost:8080/"
        },
        "id": "PanZdmV8XwnO",
        "outputId": "dee5dc11-c09e-4731-b5a7-d45a9cfd4a04"
      },
      "outputs": [
        {
          "output_type": "execute_result",
          "data": {
            "text/plain": [
              "500"
            ]
          },
          "metadata": {},
          "execution_count": 11
        }
      ],
      "source": [
        "len(etiquetas_dataset)"
      ]
    },
    {
      "cell_type": "code",
      "execution_count": 12,
      "metadata": {
        "id": "iGQ75v2SZeyo"
      },
      "outputs": [],
      "source": [
        "class_name= ['0', '1', '2', '3', '4','5', '6', '7', '8', '9']"
      ]
    },
    {
      "cell_type": "code",
      "execution_count": 13,
      "metadata": {
        "id": "xyngxIRiX0Cf"
      },
      "outputs": [],
      "source": [
        "X=np.array(imagenes_dataset)\n",
        "Y=np.array(etiquetas_dataset)"
      ]
    },
    {
      "cell_type": "code",
      "execution_count": 14,
      "metadata": {
        "id": "44_yy5Tm4V_h"
      },
      "outputs": [],
      "source": [
        "X_images,Y_images,X_labels,Y_labels=train_test_split(X,Y,test_size=0.2,random_state=0)"
      ]
    },
    {
      "cell_type": "code",
      "execution_count": 15,
      "metadata": {
        "colab": {
          "base_uri": "https://localhost:8080/"
        },
        "id": "0l42jgWu4aX1",
        "outputId": "7da2599b-116e-43f2-efdc-a69276d85fe3"
      },
      "outputs": [
        {
          "output_type": "execute_result",
          "data": {
            "text/plain": [
              "(400, 28, 28)"
            ]
          },
          "metadata": {},
          "execution_count": 15
        }
      ],
      "source": [
        "X_images.shape"
      ]
    },
    {
      "cell_type": "code",
      "execution_count": null,
      "metadata": {
        "id": "Xbv0cOz64ySC"
      },
      "outputs": [],
      "source": [
        "X_labels"
      ]
    },
    {
      "cell_type": "code",
      "execution_count": 17,
      "metadata": {
        "colab": {
          "base_uri": "https://localhost:8080/"
        },
        "id": "akKkJDxsSmfp",
        "outputId": "085acc13-05a3-4d93-e08b-368924b63819"
      },
      "outputs": [
        {
          "output_type": "stream",
          "name": "stdout",
          "text": [
            "Downloading data from https://storage.googleapis.com/tensorflow/tf-keras-datasets/mnist.npz\n",
            "11490434/11490434 [==============================] - 0s 0us/step\n"
          ]
        }
      ],
      "source": [
        "mnist = keras.datasets.mnist\n",
        "\n",
        "(train_images, train_labels),(test_images, test_labels) = mnist.load_data()"
      ]
    },
    {
      "cell_type": "code",
      "execution_count": 18,
      "metadata": {
        "id": "RX45PiEoTTob"
      },
      "outputs": [],
      "source": [
        "class_names=[0,1,2,3,4,5,6,7,8,9]"
      ]
    },
    {
      "cell_type": "code",
      "execution_count": 19,
      "metadata": {
        "colab": {
          "base_uri": "https://localhost:8080/"
        },
        "id": "1PY_bRQ-VNLV",
        "outputId": "db433fa5-9c81-4d33-9682-87a40777c2ec"
      },
      "outputs": [
        {
          "output_type": "execute_result",
          "data": {
            "text/plain": [
              "(60000, 28, 28)"
            ]
          },
          "metadata": {},
          "execution_count": 19
        }
      ],
      "source": [
        "train_images.shape"
      ]
    },
    {
      "cell_type": "code",
      "execution_count": 20,
      "metadata": {
        "colab": {
          "base_uri": "https://localhost:8080/"
        },
        "id": "aIUFu-9lVS0w",
        "outputId": "fe89cd39-9889-4d6e-8c01-af72f8e2aff3"
      },
      "outputs": [
        {
          "output_type": "execute_result",
          "data": {
            "text/plain": [
              "60000"
            ]
          },
          "metadata": {},
          "execution_count": 20
        }
      ],
      "source": [
        "len(train_labels)"
      ]
    },
    {
      "cell_type": "code",
      "execution_count": 21,
      "metadata": {
        "colab": {
          "base_uri": "https://localhost:8080/"
        },
        "id": "Skh05fMMVVaV",
        "outputId": "c34e91a4-5336-42dd-aee4-e78b7fe65875"
      },
      "outputs": [
        {
          "output_type": "execute_result",
          "data": {
            "text/plain": [
              "array([5, 0, 4, ..., 5, 6, 8], dtype=uint8)"
            ]
          },
          "metadata": {},
          "execution_count": 21
        }
      ],
      "source": [
        "train_labels"
      ]
    },
    {
      "cell_type": "code",
      "execution_count": 22,
      "metadata": {
        "colab": {
          "base_uri": "https://localhost:8080/"
        },
        "id": "tE1Qk1fQVVwt",
        "outputId": "22f35fa5-c1f5-4a79-dd0f-89e2fb8c6099"
      },
      "outputs": [
        {
          "output_type": "execute_result",
          "data": {
            "text/plain": [
              "(500, 28, 28)"
            ]
          },
          "metadata": {},
          "execution_count": 22
        }
      ],
      "source": [
        "X.shape"
      ]
    },
    {
      "cell_type": "code",
      "execution_count": 23,
      "metadata": {
        "colab": {
          "base_uri": "https://localhost:8080/"
        },
        "id": "AZgn_jBXVXXB",
        "outputId": "aa296e63-c33e-4d7e-daeb-a9b609bc4fba"
      },
      "outputs": [
        {
          "output_type": "execute_result",
          "data": {
            "text/plain": [
              "500"
            ]
          },
          "metadata": {},
          "execution_count": 23
        }
      ],
      "source": [
        "len(Y)"
      ]
    },
    {
      "cell_type": "code",
      "execution_count": 24,
      "metadata": {
        "colab": {
          "base_uri": "https://localhost:8080/",
          "height": 265
        },
        "id": "6fQFZewoVZ0o",
        "outputId": "3766eeb5-3106-47c0-c8e8-d02f969019e2"
      },
      "outputs": [
        {
          "output_type": "display_data",
          "data": {
            "text/plain": [
              "<Figure size 432x288 with 2 Axes>"
            ],
            "image/png": "[encoded data removed]"
          },
          "metadata": {
            "needs_background": "light"
          }
        }
      ],
      "source": [
        "plt.figure()\n",
        "plt.imshow(X[1])\n",
        "plt.colorbar()\n",
        "plt.grid(False)\n",
        "plt.show()"
      ]
    },
    {
      "cell_type": "code",
      "execution_count": 25,
      "metadata": {
        "id": "vjxWpcfYVu9i"
      },
      "outputs": [],
      "source": [
        "train_images = train_images / 255.0\n",
        "\n",
        "test_images = test_images / 255.0"
      ]
    },
    {
      "cell_type": "code",
      "execution_count": 26,
      "metadata": {
        "colab": {
          "base_uri": "https://localhost:8080/",
          "height": 589
        },
        "id": "0wCTMu5SVw4E",
        "outputId": "0cbc266c-2eec-4dbf-c9a9-2be444b397fc"
      },
      "outputs": [
        {
          "output_type": "display_data",
          "data": {
            "text/plain": [
              "<Figure size 720x720 with 25 Axes>"
            ],
            "image/png": "[encoded data removed]"
          },
          "metadata": {}
        }
      ],
      "source": [
        "plt.figure(figsize=(10,10))\n",
        "for i in range(25):\n",
        "    plt.subplot(5,5,i+1)\n",
        "    plt.xticks([])\n",
        "    plt.yticks([])\n",
        "    plt.grid(False)\n",
        "    plt.imshow(train_images[i], cmap=plt.cm.binary)\n",
        "    plt.xlabel(class_names[train_labels[i]])\n",
        "plt.show()"
      ]
    },
    {
      "cell_type": "code",
      "execution_count": 28,
      "metadata": {
        "id": "2i5DNH90J6d0"
      },
      "outputs": [],
      "source": [
        "\n",
        "model = models.Sequential()\n",
        "model.add(layers.Conv2D(32, (3, 3), activation='relu', input_shape=(28, 28,1)))\n",
        "model.add(layers.MaxPooling2D((2, 2)))\n",
        "model.add(layers.Conv2D(64, (3, 3), activation='relu'))\n",
        "model.add(layers.MaxPooling2D((2, 2)))\n",
        "model.add(layers.Conv2D(64, (3, 3), activation='relu'))"
      ]
    },
    {
      "cell_type": "code",
      "execution_count": 29,
      "metadata": {
        "id": "KVwhQYkjKGIK"
      },
      "outputs": [],
      "source": [
        "model.add(layers.Flatten())\n",
        "model.add(layers.Dense(64, activation='relu'))\n",
        "model.add(layers.Dense(10, activation = 'softmax'))\n"
      ]
    },
    {
      "cell_type": "code",
      "execution_count": 30,
      "metadata": {
        "colab": {
          "base_uri": "https://localhost:8080/"
        },
        "id": "d35ZeTEzWGc8",
        "outputId": "78f34e72-e22b-43ad-dfef-091295933dad"
      },
      "outputs": [
        {
          "output_type": "stream",
          "name": "stdout",
          "text": [
            "Epoch 1/10\n",
            "1875/1875 [==============================] - 83s 44ms/step - loss: 0.1448 - accuracy: 0.9545 - val_loss: 0.0355 - val_accuracy: 0.9886\n",
            "Epoch 2/10\n",
            "1875/1875 [==============================] - 71s 38ms/step - loss: 0.0449 - accuracy: 0.9857 - val_loss: 0.0412 - val_accuracy: 0.9860\n",
            "Epoch 3/10\n",
            "1875/1875 [==============================] - 73s 39ms/step - loss: 0.0319 - accuracy: 0.9899 - val_loss: 0.0494 - val_accuracy: 0.9843\n",
            "Epoch 4/10\n",
            "1875/1875 [==============================] - 70s 37ms/step - loss: 0.0256 - accuracy: 0.9920 - val_loss: 0.0260 - val_accuracy: 0.9914\n",
            "Epoch 5/10\n",
            "1875/1875 [==============================] - 72s 38ms/step - loss: 0.0195 - accuracy: 0.9937 - val_loss: 0.0365 - val_accuracy: 0.9886\n",
            "Epoch 6/10\n",
            "1875/1875 [==============================] - 71s 38ms/step - loss: 0.0169 - accuracy: 0.9943 - val_loss: 0.0426 - val_accuracy: 0.9892\n",
            "Epoch 7/10\n",
            "1875/1875 [==============================] - 73s 39ms/step - loss: 0.0125 - accuracy: 0.9958 - val_loss: 0.0319 - val_accuracy: 0.9916\n",
            "Epoch 8/10\n",
            "1875/1875 [==============================] - 71s 38ms/step - loss: 0.0115 - accuracy: 0.9965 - val_loss: 0.0277 - val_accuracy: 0.9913\n",
            "Epoch 9/10\n",
            "1875/1875 [==============================] - 74s 39ms/step - loss: 0.0090 - accuracy: 0.9971 - val_loss: 0.0398 - val_accuracy: 0.9891\n",
            "Epoch 10/10\n",
            "1875/1875 [==============================] - 72s 38ms/step - loss: 0.0090 - accuracy: 0.9972 - val_loss: 0.0514 - val_accuracy: 0.9882\n"
          ]
        }
      ],
      "source": [
        "model.compile(optimizer='adam',\n",
        "              loss='sparse_categorical_crossentropy',\n",
        "              metrics=['accuracy'])\n",
        "history = model.fit(train_images, train_labels, epochs=10, \n",
        "                    validation_data=(test_images, test_labels))"
      ]
    },
    {
      "cell_type": "code",
      "execution_count": 31,
      "metadata": {
        "colab": {
          "base_uri": "https://localhost:8080/"
        },
        "id": "qn0OrpwTWZ3N",
        "outputId": "240165c8-6b9a-4032-be2d-1c8a632d7dd6"
      },
      "outputs": [
        {
          "output_type": "stream",
          "name": "stdout",
          "text": [
            "16/16 [==============================] - 0s 13ms/step\n"
          ]
        }
      ],
      "source": [
        "predictions = model.predict(X)"
      ]
    },
    {
      "cell_type": "code",
      "execution_count": 32,
      "metadata": {
        "colab": {
          "base_uri": "https://localhost:8080/"
        },
        "id": "j_Ftm-KgcpTe",
        "outputId": "40955dac-96d9-422d-aa1d-f959f5a607ef"
      },
      "outputs": [
        {
          "output_type": "execute_result",
          "data": {
            "text/plain": [
              "array([0.        , 0.        , 0.99999994, 0.        , 0.        ,\n",
              "       0.        , 0.        , 0.        , 0.        , 0.        ],\n",
              "      dtype=float32)"
            ]
          },
          "metadata": {},
          "execution_count": 32
        }
      ],
      "source": [
        "predictions[102]"
      ]
    },
    {
      "cell_type": "code",
      "execution_count": 49,
      "metadata": {
        "colab": {
          "base_uri": "https://localhost:8080/"
        },
        "id": "ph1Sup20cmFr",
        "outputId": "189bc431-400d-469d-cf64-d615080eccdc"
      },
      "outputs": [
        {
          "output_type": "execute_result",
          "data": {
            "text/plain": [
              "0"
            ]
          },
          "metadata": {},
          "execution_count": 49
        }
      ],
      "source": [
        "np.argmax(predictions[1])"
      ]
    },
    {
      "cell_type": "code",
      "execution_count": 50,
      "metadata": {
        "colab": {
          "base_uri": "https://localhost:8080/"
        },
        "id": "tIMmV3dicmoS",
        "outputId": "b73e279a-65ee-4cdf-b9d6-801bf8b75cd9"
      },
      "outputs": [
        {
          "output_type": "execute_result",
          "data": {
            "text/plain": [
              "0"
            ]
          },
          "metadata": {},
          "execution_count": 50
        }
      ],
      "source": [
        "Y[1]"
      ]
    },
    {
      "cell_type": "code",
      "execution_count": 35,
      "metadata": {
        "id": "37q7DyLrcHUl"
      },
      "outputs": [],
      "source": [
        "def plot_image(i, predictions_array, true_label, img):\n",
        "  predictions_array, true_label, img = predictions_array, true_label[i], img[i]\n",
        "  plt.grid(False)\n",
        "  plt.xticks([])\n",
        "  plt.yticks([])\n",
        "\n",
        "  plt.imshow(img, cmap=plt.cm.binary)\n",
        "\n",
        "  predicted_label = np.argmax(predictions_array)\n",
        "  if predicted_label == true_label:\n",
        "    color = 'blue'\n",
        "  else:\n",
        "    color = 'red'\n",
        "\n",
        "  plt.xlabel(\"{} {:2.0f}% ({})\".format(class_name[predicted_label],\n",
        "                                100*np.max(predictions_array),\n",
        "                                class_name[true_label]),\n",
        "                                color=color)\n",
        "\n",
        "def plot_value_array(i, predictions_array, true_label):\n",
        "  predictions_array, true_label = predictions_array, true_label[i]\n",
        "  plt.grid(False)\n",
        "  plt.xticks(range(10))\n",
        "  plt.yticks([])\n",
        "  thisplot = plt.bar(range(10), predictions_array, color=\"#777777\")\n",
        "  plt.ylim([0, 1])\n",
        "  predicted_label = np.argmax(predictions_array)\n",
        "\n",
        "  thisplot[predicted_label].set_color('red')\n",
        "  thisplot[true_label].set_color('blue')"
      ]
    },
    {
      "cell_type": "code",
      "execution_count": 36,
      "metadata": {
        "colab": {
          "base_uri": "https://localhost:8080/",
          "height": 211
        },
        "id": "9kS9nfDr7cud",
        "outputId": "7d7334e7-18ec-41dc-df12-409b2a044f0f"
      },
      "outputs": [
        {
          "output_type": "display_data",
          "data": {
            "text/plain": [
              "<Figure size 432x216 with 2 Axes>"
            ],
            "image/png": "[encoded data removed]"
          },
          "metadata": {
            "needs_background": "light"
          }
        }
      ],
      "source": [
        "i = 1\n",
        "plt.figure(figsize=(6,3))\n",
        "plt.subplot(1,2,1)\n",
        "plot_image(i, predictions[i], Y, X)\n",
        "plt.subplot(1,2,2)\n",
        "plot_value_array(i, predictions[i], Y)\n",
        "plt.show()"
      ]
    },
    {
      "cell_type": "code",
      "execution_count": 37,
      "metadata": {
        "colab": {
          "base_uri": "https://localhost:8080/",
          "height": 211
        },
        "id": "zn67s-an7dw_",
        "outputId": "b875c90d-ef35-42c8-9775-536036b43551"
      },
      "outputs": [
        {
          "output_type": "display_data",
          "data": {
            "text/plain": [
              "<Figure size 432x216 with 2 Axes>"
            ],
            "image/png": "[encoded data removed]"
          },
          "metadata": {
            "needs_background": "light"
          }
        }
      ],
      "source": [
        "i = 50\n",
        "plt.figure(figsize=(6,3))\n",
        "plt.subplot(1,2,1)\n",
        "plot_image(i, predictions[i], Y, X)\n",
        "plt.subplot(1,2,2)\n",
        "plot_value_array(i, predictions[i], Y)\n",
        "plt.show()"
      ]
    },
    {
      "cell_type": "code",
      "execution_count": 48,
      "metadata": {
        "colab": {
          "base_uri": "https://localhost:8080/",
          "height": 211
        },
        "id": "Tks9hfpC7gH6",
        "outputId": "c4cf3093-c8b4-4a17-ed3d-362f9685de77"
      },
      "outputs": [
        {
          "output_type": "display_data",
          "data": {
            "text/plain": [
              "<Figure size 432x216 with 2 Axes>"
            ],
            "image/png": "[encoded data removed]"
          },
          "metadata": {
            "needs_background": "light"
          }
        }
      ],
      "source": [
        "i = 102\n",
        "plt.figure(figsize=(6,3))\n",
        "plt.subplot(1,2,1)\n",
        "plot_image(i, predictions[i], Y, X)\n",
        "plt.subplot(1,2,2)\n",
        "plot_value_array(i, predictions[i], Y)\n",
        "plt.show()"
      ]
    },
    {
      "cell_type": "code",
      "execution_count": 39,
      "metadata": {
        "colab": {
          "base_uri": "https://localhost:8080/",
          "height": 211
        },
        "id": "cLB6hzPY7ilf",
        "outputId": "12804063-0dd4-4703-91fa-04b3ae8a9b9a"
      },
      "outputs": [
        {
          "output_type": "display_data",
          "data": {
            "text/plain": [
              "<Figure size 432x216 with 2 Axes>"
            ],
            "image/png": "[encoded data removed]"
          },
          "metadata": {
            "needs_background": "light"
          }
        }
      ],
      "source": [
        "i = 305\n",
        "plt.figure(figsize=(6,3))\n",
        "plt.subplot(1,2,1)\n",
        "plot_image(i, predictions[i], Y, X)\n",
        "plt.subplot(1,2,2)\n",
        "plot_value_array(i, predictions[i], Y)\n",
        "plt.show()"
      ]
    },
    {
      "cell_type": "code",
      "execution_count": 40,
      "metadata": {
        "colab": {
          "base_uri": "https://localhost:8080/",
          "height": 211
        },
        "id": "OCgqDsJM7kOb",
        "outputId": "4cf770a5-c66a-4e8f-accd-0b601040bb16"
      },
      "outputs": [
        {
          "output_type": "display_data",
          "data": {
            "text/plain": [
              "<Figure size 432x216 with 2 Axes>"
            ],
            "image/png": "[encoded data removed]"
          },
          "metadata": {
            "needs_background": "light"
          }
        }
      ],
      "source": [
        "i = 150\n",
        "plt.figure(figsize=(6,3))\n",
        "plt.subplot(1,2,1)\n",
        "plot_image(i, predictions[i], Y, X)\n",
        "plt.subplot(1,2,2)\n",
        "plot_value_array(i, predictions[i], Y)\n",
        "plt.show()"
      ]
    },
    {
      "cell_type": "code",
      "execution_count": 41,
      "metadata": {
        "colab": {
          "base_uri": "https://localhost:8080/",
          "height": 211
        },
        "id": "NAnK1jdT7l5j",
        "outputId": "10b11f81-4eb5-44f3-cd9b-439bd2ad5638"
      },
      "outputs": [
        {
          "output_type": "display_data",
          "data": {
            "text/plain": [
              "<Figure size 432x216 with 2 Axes>"
            ],
            "image/png": "[encoded data removed]"
          },
          "metadata": {
            "needs_background": "light"
          }
        }
      ],
      "source": [
        "i = 350\n",
        "plt.figure(figsize=(6,3))\n",
        "plt.subplot(1,2,1)\n",
        "plot_image(i, predictions[i], Y, X)\n",
        "plt.subplot(1,2,2)\n",
        "plot_value_array(i, predictions[i], Y)\n",
        "plt.show()"
      ]
    },
    {
      "cell_type": "code",
      "execution_count": 42,
      "metadata": {
        "colab": {
          "base_uri": "https://localhost:8080/",
          "height": 211
        },
        "id": "8B3_vZOR7nzv",
        "outputId": "5e31878e-5e83-4176-be02-b7c8a91aaec8"
      },
      "outputs": [
        {
          "output_type": "display_data",
          "data": {
            "text/plain": [
              "<Figure size 432x216 with 2 Axes>"
            ],
            "image/png": "[encoded data removed]"
          },
          "metadata": {
            "needs_background": "light"
          }
        }
      ],
      "source": [
        "i = 499\n",
        "plt.figure(figsize=(6,3))\n",
        "plt.subplot(1,2,1)\n",
        "plot_image(i, predictions[i], Y, X)\n",
        "plt.subplot(1,2,2)\n",
        "plot_value_array(i, predictions[i], Y)\n",
        "plt.show()"
      ]
    },
    {
      "cell_type": "code",
      "execution_count": 43,
      "metadata": {
        "colab": {
          "base_uri": "https://localhost:8080/",
          "height": 211
        },
        "id": "F33wY0267rpi",
        "outputId": "be6105d7-b5c3-43f4-ac60-771ca5113b75"
      },
      "outputs": [
        {
          "output_type": "display_data",
          "data": {
            "text/plain": [
              "<Figure size 432x216 with 2 Axes>"
            ],
            "image/png": "[encoded data removed]"
          },
          "metadata": {
            "needs_background": "light"
          }
        }
      ],
      "source": [
        "i = 175\n",
        "plt.figure(figsize=(6,3))\n",
        "plt.subplot(1,2,1)\n",
        "plot_image(i, predictions[i], Y, X)\n",
        "plt.subplot(1,2,2)\n",
        "plot_value_array(i, predictions[i], Y)\n",
        "plt.show()"
      ]
    },
    {
      "cell_type": "code",
      "execution_count": 44,
      "metadata": {
        "colab": {
          "base_uri": "https://localhost:8080/",
          "height": 211
        },
        "id": "blm8IQxc7r2Y",
        "outputId": "91ab0d7f-eff4-4e4f-eee2-b524092fb5b4"
      },
      "outputs": [
        {
          "output_type": "display_data",
          "data": {
            "text/plain": [
              "<Figure size 432x216 with 2 Axes>"
            ],
            "image/png": "[encoded data removed]"
          },
          "metadata": {
            "needs_background": "light"
          }
        }
      ],
      "source": [
        "i =299\n",
        "plt.figure(figsize=(6,3))\n",
        "plt.subplot(1,2,1)\n",
        "plot_image(i, predictions[i], Y, X)\n",
        "plt.subplot(1,2,2)\n",
        "plot_value_array(i, predictions[i], Y)\n",
        "plt.show()"
      ]
    },
    {
      "cell_type": "code",
      "execution_count": 45,
      "metadata": {
        "colab": {
          "base_uri": "https://localhost:8080/",
          "height": 211
        },
        "id": "iyuWnarA7sGR",
        "outputId": "c0bd9a48-b502-48c0-a2ba-2f9eefda8f72"
      },
      "outputs": [
        {
          "output_type": "display_data",
          "data": {
            "text/plain": [
              "<Figure size 432x216 with 2 Axes>"
            ],
            "image/png": "[encoded data removed]"
          },
          "metadata": {
            "needs_background": "light"
          }
        }
      ],
      "source": [
        "i = 239\n",
        "plt.figure(figsize=(6,3))\n",
        "plt.subplot(1,2,1)\n",
        "plot_image(i, predictions[i], Y, X)\n",
        "plt.subplot(1,2,2)\n",
        "plot_value_array(i, predictions[i], Y)\n",
        "plt.show()"
      ]
    },
    {
      "cell_type": "code",
      "execution_count": 46,
      "metadata": {
        "colab": {
          "base_uri": "https://localhost:8080/",
          "height": 301
        },
        "id": "_cVzuv30GZTo",
        "outputId": "a70e4907-2fb3-4b05-c26d-68bbaffc142a"
      },
      "outputs": [
        {
          "output_type": "stream",
          "name": "stdout",
          "text": [
            "16/16 - 0s - loss: 668.8010 - accuracy: 0.6480 - 355ms/epoch - 22ms/step\n"
          ]
        },
        {
          "output_type": "display_data",
          "data": {
            "text/plain": [
              "<Figure size 432x288 with 1 Axes>"
            ],
            "image/png": "[encoded data removed]"
          },
          "metadata": {
            "needs_background": "light"
          }
        }
      ],
      "source": [
        "#Gráfica con la diferencia de valores de exactitud del entrenamiento y la validación. \n",
        "\n",
        "plt.plot(history.history['accuracy'], label='accuracy')\n",
        "plt.plot(history.history['val_accuracy'], label = 'val_accuracy')\n",
        "plt.xlabel('Epoch')\n",
        "plt.ylabel('Accuracy')\n",
        "plt.ylim([0.4, 1])\n",
        "plt.xlim([-1, 11])\n",
        "plt.legend(loc='lower right')\n",
        "\n",
        "test_loss, test_acc = model.evaluate(X,Y, verbose=2)"
      ]
    }
  ],
  "metadata": {
    "colab": {
      "provenance": []
    },
    "kernelspec": {
      "display_name": "Python 3",
      "name": "python3"
    },
    "language_info": {
      "name": "python"
    }
  },
  "nbformat": 4,
  "nbformat_minor": 0
}