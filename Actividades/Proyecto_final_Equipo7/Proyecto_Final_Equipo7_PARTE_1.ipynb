{
  "nbformat": 4,
  "nbformat_minor": 0,
  "metadata": {
    "colab": {
      "provenance": []
    },
    "kernelspec": {
      "name": "python3",
      "display_name": "Python 3"
    },
    "language_info": {
      "name": "python"
    }
  },
  "cells": [
    {
      "cell_type": "markdown",
      "source": [
        "Equipo 7\n",
        "1.   Samantha Denisse Narvaez Cazares Matricula:1925370\n",
        "2.   Pablo Guadalupe Silva Ibarra Matricula:2035340\n",
        "3.   Maria Fernanda Sosa Martinez Matricula:1992004\n",
        "4.   Brandon Dylan Regil Llovera Matricula:1872756\n",
        "5.   Pedro Eduardo Ramirez Reyna  Matricula:1992263"
      ],
      "metadata": {
        "id": "sDhvjSjq8MCB"
      }
    },
    {
      "cell_type": "code",
      "execution_count": 1,
      "metadata": {
        "id": "dEhQi1y7qn9Q"
      },
      "outputs": [],
      "source": [
        "#Importar librerias\n",
        "import cv2\n",
        "import os\n",
        "import matplotlib.pyplot as plt\n",
        "import glob\n",
        "from sklearn.model_selection import train_test_split\n",
        "import tensorflow as tf\n",
        "from tensorflow import keras\n",
        "from tensorflow.keras import datasets, layers, models\n",
        "import numpy as np\n",
        "from keras.layers import Conv2D, MaxPooling2D"
      ]
    },
    {
      "cell_type": "code",
      "source": [
        "imagenes_dataset = []\n",
        "etiquetas_dataset = []"
      ],
      "metadata": {
        "id": "g7x-FKPXwoVf"
      },
      "execution_count": 2,
      "outputs": []
    },
    {
      "cell_type": "code",
      "source": [
        "file = '/content/drive/MyDrive/Inteligencia artificial/PIA/Imagenes de prueba/0' \n",
        "for x in glob.iglob(f'{file}/*.png'):\n",
        "  test_image = cv2.imread(x, cv2.IMREAD_GRAYSCALE )\n",
        "  img_resized = cv2.resize(test_image, (28,28,), interpolation=cv2.INTER_LINEAR )\n",
        "  img_resized = cv2.bitwise_not(img_resized)\n",
        "  imagenes_dataset.append(img_resized)\n",
        "  etiquetas_dataset.append(0)\n",
        "\n",
        "file = '/content/drive/MyDrive/Inteligencia artificial/PIA/Imagenes de prueba/1' \n",
        "for x in glob.iglob(f'{file}/*.png'):\n",
        "  test_image = cv2.imread(x, cv2.IMREAD_GRAYSCALE )\n",
        "  img_resized = cv2.resize(test_image, (28,28,), interpolation=cv2.INTER_LINEAR )\n",
        "  img_resized = cv2.bitwise_not(img_resized)\n",
        "  imagenes_dataset.append(img_resized)\n",
        "  etiquetas_dataset.append(1)\n",
        "\n",
        "file = '/content/drive/MyDrive/Inteligencia artificial/PIA/Imagenes de prueba/2' \n",
        "for x in glob.iglob(f'{file}/*.png'):\n",
        "  test_image = cv2.imread(x, cv2.IMREAD_GRAYSCALE )\n",
        "  img_resized = cv2.resize(test_image, (28,28,), interpolation=cv2.INTER_LINEAR )\n",
        "  img_resized = cv2.bitwise_not(img_resized)\n",
        "  imagenes_dataset.append(img_resized)\n",
        "  etiquetas_dataset.append(2)\n",
        "\n",
        "file = '/content/drive/MyDrive/Inteligencia artificial/PIA/Imagenes de prueba/3' \n",
        "for x in glob.iglob(f'{file}/*.png'):\n",
        "  test_image = cv2.imread(x, cv2.IMREAD_GRAYSCALE )\n",
        "  img_resized = cv2.resize(test_image, (28,28,), interpolation=cv2.INTER_LINEAR )\n",
        "  img_resized = cv2.bitwise_not(img_resized)\n",
        "  imagenes_dataset.append(img_resized)\n",
        "  etiquetas_dataset.append(3)\n",
        "\n",
        "file = '/content/drive/MyDrive/Inteligencia artificial/PIA/Imagenes de prueba/4' \n",
        "for x in glob.iglob(f'{file}/*.png'):\n",
        "  test_image = cv2.imread(x, cv2.IMREAD_GRAYSCALE )\n",
        "  img_resized = cv2.resize(test_image, (28,28,), interpolation=cv2.INTER_LINEAR )\n",
        "  img_resized = cv2.bitwise_not(img_resized)\n",
        "  imagenes_dataset.append(img_resized)\n",
        "  etiquetas_dataset.append(4)\n",
        "\n",
        "file = '/content/drive/MyDrive/Inteligencia artificial/PIA/Imagenes de prueba/5' \n",
        "for x in glob.iglob(f'{file}/*.png'):\n",
        "  test_image = cv2.imread(x, cv2.IMREAD_GRAYSCALE )\n",
        "  img_resized = cv2.resize(test_image, (28,28,), interpolation=cv2.INTER_LINEAR )\n",
        "  img_resized = cv2.bitwise_not(img_resized)\n",
        "  imagenes_dataset.append(img_resized)\n",
        "  etiquetas_dataset.append(5)\n",
        "\n",
        "file = '/content/drive/MyDrive/Inteligencia artificial/PIA/Imagenes de prueba/6' \n",
        "for x in glob.iglob(f'{file}/*.png'):\n",
        "  test_image = cv2.imread(x, cv2.IMREAD_GRAYSCALE )\n",
        "  img_resized = cv2.resize(test_image, (28,28,), interpolation=cv2.INTER_LINEAR )\n",
        "  img_resized = cv2.bitwise_not(img_resized)\n",
        "  imagenes_dataset.append(img_resized)\n",
        "  etiquetas_dataset.append(6)\n",
        "\n",
        "file = '/content/drive/MyDrive/Inteligencia artificial/PIA/Imagenes de prueba/7' \n",
        "for x in glob.iglob(f'{file}/*.png'):\n",
        "  test_image = cv2.imread(x, cv2.IMREAD_GRAYSCALE )\n",
        "  img_resized = cv2.resize(test_image, (28,28,), interpolation=cv2.INTER_LINEAR )\n",
        "  img_resized = cv2.bitwise_not(img_resized)\n",
        "  imagenes_dataset.append(img_resized)\n",
        "  etiquetas_dataset.append(7)\n",
        "\n",
        "file = '/content/drive/MyDrive/Inteligencia artificial/PIA/Imagenes de prueba/8' \n",
        "for x in glob.iglob(f'{file}/*.png'):\n",
        "  test_image = cv2.imread(x, cv2.IMREAD_GRAYSCALE )\n",
        "  img_resized = cv2.resize(test_image, (28,28,), interpolation=cv2.INTER_LINEAR )\n",
        "  img_resized = cv2.bitwise_not(img_resized)\n",
        "  imagenes_dataset.append(img_resized)\n",
        "  etiquetas_dataset.append(8)\n",
        "\n",
        "file = '/content/drive/MyDrive/Inteligencia artificial/PIA/Imagenes de prueba/9' \n",
        "for x in glob.iglob(f'{file}/*.png'):\n",
        "  test_image = cv2.imread(x, cv2.IMREAD_GRAYSCALE )\n",
        "  img_resized = cv2.resize(test_image, (28,28,), interpolation=cv2.INTER_LINEAR )\n",
        "  img_resized = cv2.bitwise_not(img_resized)\n",
        "  imagenes_dataset.append(img_resized)\n",
        "  etiquetas_dataset.append(9)\n"
      ],
      "metadata": {
        "id": "MdoLw2TM8Yvv"
      },
      "execution_count": 3,
      "outputs": []
    },
    {
      "cell_type": "code",
      "source": [
        "len(imagenes_dataset)\n",
        "plt.imshow(imagenes_dataset[119], cmap='gray')"
      ],
      "metadata": {
        "colab": {
          "base_uri": "https://localhost:8080/",
          "height": 283
        },
        "id": "qU0eyRIuAY1g",
        "outputId": "163a2695-0671-4ce7-9f66-b41813056865"
      },
      "execution_count": 4,
      "outputs": [
        {
          "output_type": "execute_result",
          "data": {
            "text/plain": [
              "<matplotlib.image.AxesImage at 0x7f65f5cbbfd0>"
            ]
          },
          "metadata": {},
          "execution_count": 4
        },
        {
          "output_type": "display_data",
          "data": {
            "text/plain": [
              "<Figure size 432x288 with 1 Axes>"
            ],
            "image/png": "[encoded data removed]"
          },
          "metadata": {
            "needs_background": "light"
          }
        }
      ]
    },
    {
      "cell_type": "code",
      "source": [
        "etiquetas_dataset"
      ],
      "metadata": {
        "id": "XX6Rt4e-KbUz"
      },
      "execution_count": null,
      "outputs": []
    },
    {
      "cell_type": "code",
      "source": [
        "len(imagenes_dataset)"
      ],
      "metadata": {
        "colab": {
          "base_uri": "https://localhost:8080/"
        },
        "id": "JBzxW6ntHHW7",
        "outputId": "a9627f60-97d5-40ab-a6b5-f52f81a0bf1e"
      },
      "execution_count": 6,
      "outputs": [
        {
          "output_type": "execute_result",
          "data": {
            "text/plain": [
              "500"
            ]
          },
          "metadata": {},
          "execution_count": 6
        }
      ]
    },
    {
      "cell_type": "code",
      "source": [
        "len(etiquetas_dataset)"
      ],
      "metadata": {
        "colab": {
          "base_uri": "https://localhost:8080/"
        },
        "id": "Jp1ZibcrIE3h",
        "outputId": "c1452e9b-b8a1-48a5-bd07-00a6590c361a"
      },
      "execution_count": 7,
      "outputs": [
        {
          "output_type": "execute_result",
          "data": {
            "text/plain": [
              "500"
            ]
          },
          "metadata": {},
          "execution_count": 7
        }
      ]
    },
    {
      "cell_type": "code",
      "source": [
        "class_names = ['0', '1', '2', '3', '4','5', '6', '7', '8', '9']"
      ],
      "metadata": {
        "id": "voraY76-Ciu0"
      },
      "execution_count": 8,
      "outputs": []
    },
    {
      "cell_type": "code",
      "source": [
        "X=np.array(imagenes_dataset)\n",
        "Y=np.array(etiquetas_dataset)"
      ],
      "metadata": {
        "id": "p7zLoehUwjWg"
      },
      "execution_count": 9,
      "outputs": []
    },
    {
      "cell_type": "code",
      "source": [
        "train_images,test_images,train_labels,test_labels=train_test_split(X,Y,test_size=0.2,random_state=0)"
      ],
      "metadata": {
        "id": "xkh4c_iLNiIs"
      },
      "execution_count": 10,
      "outputs": []
    },
    {
      "cell_type": "code",
      "source": [
        "train_images.shape"
      ],
      "metadata": {
        "colab": {
          "base_uri": "https://localhost:8080/"
        },
        "id": "MwRKfWStVa7A",
        "outputId": "d1607dfd-b2f3-4fc2-a62c-d08ef66b0cb2"
      },
      "execution_count": 11,
      "outputs": [
        {
          "output_type": "execute_result",
          "data": {
            "text/plain": [
              "(400, 28, 28)"
            ]
          },
          "metadata": {},
          "execution_count": 11
        }
      ]
    },
    {
      "cell_type": "code",
      "source": [
        "len(train_labels)"
      ],
      "metadata": {
        "colab": {
          "base_uri": "https://localhost:8080/"
        },
        "id": "cVowJ7MWYeW1",
        "outputId": "dbe999f6-9b1d-4669-b4b4-0ee58ec0ece9"
      },
      "execution_count": 12,
      "outputs": [
        {
          "output_type": "execute_result",
          "data": {
            "text/plain": [
              "400"
            ]
          },
          "metadata": {},
          "execution_count": 12
        }
      ]
    },
    {
      "cell_type": "code",
      "source": [
        "train_labels"
      ],
      "metadata": {
        "id": "xvUZkBhCYkVh"
      },
      "execution_count": null,
      "outputs": []
    },
    {
      "cell_type": "code",
      "source": [
        "test_images.shape"
      ],
      "metadata": {
        "colab": {
          "base_uri": "https://localhost:8080/"
        },
        "id": "DCOR6KL3Yodl",
        "outputId": "037ad301-5b10-46b3-f5ed-33d2b291f1c2"
      },
      "execution_count": 14,
      "outputs": [
        {
          "output_type": "execute_result",
          "data": {
            "text/plain": [
              "(100, 28, 28)"
            ]
          },
          "metadata": {},
          "execution_count": 14
        }
      ]
    },
    {
      "cell_type": "code",
      "source": [
        "len(test_labels)"
      ],
      "metadata": {
        "colab": {
          "base_uri": "https://localhost:8080/"
        },
        "id": "tPyL26PKY2sI",
        "outputId": "8748ada3-cfa8-42cd-f67e-f92f0ee0fbc9"
      },
      "execution_count": 15,
      "outputs": [
        {
          "output_type": "execute_result",
          "data": {
            "text/plain": [
              "100"
            ]
          },
          "metadata": {},
          "execution_count": 15
        }
      ]
    },
    {
      "cell_type": "code",
      "source": [
        "test_labels"
      ],
      "metadata": {
        "id": "Agh9klIKkMXZ"
      },
      "execution_count": null,
      "outputs": []
    },
    {
      "cell_type": "code",
      "source": [
        "plt.figure()\n",
        "plt.imshow(train_images[0])\n",
        "plt.colorbar()\n",
        "plt.grid(False)\n",
        "plt.show()"
      ],
      "metadata": {
        "colab": {
          "base_uri": "https://localhost:8080/",
          "height": 265
        },
        "id": "MnKayN04ZrCa",
        "outputId": "df39f789-523a-4194-81dc-b9aeca2b0aac"
      },
      "execution_count": 17,
      "outputs": [
        {
          "output_type": "display_data",
          "data": {
            "text/plain": [
              "<Figure size 432x288 with 2 Axes>"
            ],
            "image/png": "[encoded data removed]"
          },
          "metadata": {
            "needs_background": "light"
          }
        }
      ]
    },
    {
      "cell_type": "code",
      "source": [
        "train_images=np.array(train_images)\n",
        "test_images=np.array(test_images)\n",
        "train_labels=np.array(train_labels)\n",
        "test_labels=np.array(test_labels)"
      ],
      "metadata": {
        "id": "xiEFKQlu-s_S"
      },
      "execution_count": 18,
      "outputs": []
    },
    {
      "cell_type": "code",
      "source": [
        "train_images = train_images / 255.0\n",
        "test_images = test_images / 255.0\n"
      ],
      "metadata": {
        "id": "kPuTBEkVZyPK"
      },
      "execution_count": 19,
      "outputs": []
    },
    {
      "cell_type": "code",
      "source": [
        "\n",
        "model = models.Sequential()\n",
        "model.add(layers.Conv2D(32, (3, 3), activation='relu', input_shape=(28, 28,1)))\n",
        "model.add(layers.MaxPooling2D((2, 2)))\n",
        "model.add(layers.Conv2D(64, (3, 3), activation='relu'))\n",
        "model.add(layers.MaxPooling2D((2, 2)))\n",
        "model.add(layers.Conv2D(64, (3, 3), activation='relu'))"
      ],
      "metadata": {
        "id": "gVNqtXB7xa1U"
      },
      "execution_count": 20,
      "outputs": []
    },
    {
      "cell_type": "code",
      "source": [
        "model.add(layers.Flatten())\n",
        "model.add(layers.Dense(64, activation='relu'))\n",
        "model.add(layers.Dense(10, activation = 'softmax'))\n"
      ],
      "metadata": {
        "id": "FlBPmwKB-g97"
      },
      "execution_count": 21,
      "outputs": []
    },
    {
      "cell_type": "code",
      "source": [
        "model.compile(optimizer='adam',\n",
        "              loss=tf.keras.losses.SparseCategoricalCrossentropy(from_logits=True),\n",
        "              metrics=['accuracy'])\n",
        "history = model.fit(train_images, train_labels, epochs=10, \n",
        "                    validation_data=(test_images, test_labels))\n"
      ],
      "metadata": {
        "id": "68wIzdZcsHJe",
        "colab": {
          "base_uri": "https://localhost:8080/"
        },
        "outputId": "1c3fd85c-81fe-4bab-99fd-acec3e743cd9"
      },
      "execution_count": 22,
      "outputs": [
        {
          "output_type": "stream",
          "name": "stdout",
          "text": [
            "Epoch 1/10\n"
          ]
        },
        {
          "output_type": "stream",
          "name": "stderr",
          "text": [
            "/usr/local/lib/python3.7/dist-packages/tensorflow/python/util/dispatch.py:1082: UserWarning: \"`sparse_categorical_crossentropy` received `from_logits=True`, but the `output` argument was produced by a sigmoid or softmax activation and thus does not represent logits. Was this intended?\"\n",
            "  return dispatch_target(*args, **kwargs)\n"
          ]
        },
        {
          "output_type": "stream",
          "name": "stdout",
          "text": [
            "13/13 [==============================] - 2s 55ms/step - loss: 2.2809 - accuracy: 0.1475 - val_loss: 2.2287 - val_accuracy: 0.1400\n",
            "Epoch 2/10\n",
            "13/13 [==============================] - 1s 39ms/step - loss: 2.0885 - accuracy: 0.3600 - val_loss: 1.9627 - val_accuracy: 0.3900\n",
            "Epoch 3/10\n",
            "13/13 [==============================] - 0s 35ms/step - loss: 1.6643 - accuracy: 0.4575 - val_loss: 1.8041 - val_accuracy: 0.3300\n",
            "Epoch 4/10\n",
            "13/13 [==============================] - 0s 36ms/step - loss: 1.3402 - accuracy: 0.5600 - val_loss: 1.6071 - val_accuracy: 0.4300\n",
            "Epoch 5/10\n",
            "13/13 [==============================] - 0s 36ms/step - loss: 1.0966 - accuracy: 0.6350 - val_loss: 1.3557 - val_accuracy: 0.5200\n",
            "Epoch 6/10\n",
            "13/13 [==============================] - 0s 36ms/step - loss: 0.9605 - accuracy: 0.6875 - val_loss: 1.3649 - val_accuracy: 0.5600\n",
            "Epoch 7/10\n",
            "13/13 [==============================] - 1s 39ms/step - loss: 0.7948 - accuracy: 0.7500 - val_loss: 1.2283 - val_accuracy: 0.6500\n",
            "Epoch 8/10\n",
            "13/13 [==============================] - 0s 37ms/step - loss: 0.6215 - accuracy: 0.8175 - val_loss: 0.9654 - val_accuracy: 0.7000\n",
            "Epoch 9/10\n",
            "13/13 [==============================] - 0s 38ms/step - loss: 0.4921 - accuracy: 0.8425 - val_loss: 0.9476 - val_accuracy: 0.6900\n",
            "Epoch 10/10\n",
            "13/13 [==============================] - 0s 37ms/step - loss: 0.4411 - accuracy: 0.8575 - val_loss: 0.8759 - val_accuracy: 0.7600\n"
          ]
        }
      ]
    },
    {
      "cell_type": "code",
      "source": [
        "#Gráfica con la diferencia de valores de exactitud del entrenamiento y la validación. \n",
        "\n",
        "plt.plot(history.history['accuracy'], label='accuracy')\n",
        "plt.plot(history.history['val_accuracy'], label = 'val_accuracy')\n",
        "plt.xlabel('Epoch')\n",
        "plt.ylabel('Accuracy')\n",
        "plt.ylim([0.4, 1])\n",
        "plt.xlim([-1, 11])\n",
        "plt.legend(loc='lower right')\n",
        "\n",
        "test_loss, test_acc = model.evaluate(test_images,  test_labels, verbose=2)"
      ],
      "metadata": {
        "colab": {
          "base_uri": "https://localhost:8080/",
          "height": 301
        },
        "id": "rkyA_8Wh_lEk",
        "outputId": "e5d9a4c2-1177-4e7b-fa8f-f471282a8c9a"
      },
      "execution_count": 23,
      "outputs": [
        {
          "output_type": "stream",
          "name": "stdout",
          "text": [
            "4/4 - 0s - loss: 0.8759 - accuracy: 0.7600 - 51ms/epoch - 13ms/step\n"
          ]
        },
        {
          "output_type": "display_data",
          "data": {
            "text/plain": [
              "<Figure size 432x288 with 1 Axes>"
            ],
            "image/png": "[encoded data removed]"
          },
          "metadata": {
            "needs_background": "light"
          }
        }
      ]
    },
    {
      "cell_type": "code",
      "source": [
        "predictions = model.predict(test_images)"
      ],
      "metadata": {
        "colab": {
          "base_uri": "https://localhost:8080/"
        },
        "id": "raNmodYu_onn",
        "outputId": "bc914e1a-085c-4b22-aadb-90638dc1a154"
      },
      "execution_count": 24,
      "outputs": [
        {
          "output_type": "stream",
          "name": "stdout",
          "text": [
            "4/4 [==============================] - 0s 12ms/step\n"
          ]
        }
      ]
    },
    {
      "cell_type": "code",
      "source": [
        "predictions[0]"
      ],
      "metadata": {
        "colab": {
          "base_uri": "https://localhost:8080/"
        },
        "id": "39KPXwJrAGQl",
        "outputId": "295e7f7f-1ded-4c54-edc1-4baec5e32b59"
      },
      "execution_count": 25,
      "outputs": [
        {
          "output_type": "execute_result",
          "data": {
            "text/plain": [
              "array([1.4987077e-05, 9.5984137e-01, 3.5736069e-02, 4.3949620e-03,\n",
              "       1.6708992e-09, 1.3263696e-06, 3.0532721e-07, 8.4898211e-06,\n",
              "       2.1894868e-06, 1.8632568e-07], dtype=float32)"
            ]
          },
          "metadata": {},
          "execution_count": 25
        }
      ]
    },
    {
      "cell_type": "code",
      "source": [
        "np.argmax(predictions[1])"
      ],
      "metadata": {
        "colab": {
          "base_uri": "https://localhost:8080/"
        },
        "id": "YhEZx4cuAMiX",
        "outputId": "8721fbd1-a544-4e0e-c37f-ad829b784cc0"
      },
      "execution_count": 26,
      "outputs": [
        {
          "output_type": "execute_result",
          "data": {
            "text/plain": [
              "6"
            ]
          },
          "metadata": {},
          "execution_count": 26
        }
      ]
    },
    {
      "cell_type": "code",
      "source": [
        "test_labels[1]"
      ],
      "metadata": {
        "colab": {
          "base_uri": "https://localhost:8080/"
        },
        "id": "zX8Eg6tUAk1Y",
        "outputId": "6055c7ef-e308-4616-8130-7714ea90a500"
      },
      "execution_count": 27,
      "outputs": [
        {
          "output_type": "execute_result",
          "data": {
            "text/plain": [
              "5"
            ]
          },
          "metadata": {},
          "execution_count": 27
        }
      ]
    },
    {
      "cell_type": "code",
      "source": [
        "def plot_image(i, predictions_array, true_label, img):\n",
        "  predictions_array, true_label, img = predictions_array, true_label[i], img[i]\n",
        "  plt.grid(False)\n",
        "  plt.xticks([])\n",
        "  plt.yticks([])\n",
        "\n",
        "  plt.imshow(img, cmap=plt.cm.binary)\n",
        "\n",
        "  predicted_label = np.argmax(predictions_array)\n",
        "  if predicted_label == true_label:\n",
        "    color = 'blue'\n",
        "  else:\n",
        "    color = 'red'\n",
        "\n",
        "  plt.xlabel(\"{} {:2.0f}% ({})\".format(class_names[predicted_label],\n",
        "                                100*np.max(predictions_array),\n",
        "                                class_names[true_label]),\n",
        "                                color=color)\n",
        "\n",
        "def plot_value_array(i, predictions_array, true_label):\n",
        "  predictions_array, true_label = predictions_array, true_label[i]\n",
        "  plt.grid(False)\n",
        "  plt.xticks(range(10))\n",
        "  plt.yticks([])\n",
        "  thisplot = plt.bar(range(10), predictions_array, color=\"#777777\")\n",
        "  plt.ylim([0, 1])\n",
        "  predicted_label = np.argmax(predictions_array)\n",
        "\n",
        "  thisplot[predicted_label].set_color('red')\n",
        "  thisplot[true_label].set_color('blue')"
      ],
      "metadata": {
        "id": "XaUqzklpAn8L"
      },
      "execution_count": 28,
      "outputs": []
    },
    {
      "cell_type": "code",
      "source": [
        "# Plot the first X test images, their predicted labels, and the true labels.\n",
        "# Color correct predictions in blue and incorrect predictions in red.\n",
        "num_rows = 5\n",
        "num_cols = 3\n",
        "num_images = num_rows*num_cols\n",
        "plt.figure(figsize=(2*2*num_cols, 2*num_rows))\n",
        "for i in range(num_images):\n",
        "  plt.subplot(num_rows, 2*num_cols, 2*i+1)\n",
        "  plot_image(i, predictions[i], test_labels, test_images)\n",
        "  plt.subplot(num_rows, 2*num_cols, 2*i+2)\n",
        "  plot_value_array(i, predictions[i], test_labels)\n",
        "plt.tight_layout()\n",
        "plt.show()"
      ],
      "metadata": {
        "colab": {
          "base_uri": "https://localhost:8080/",
          "height": 729
        },
        "id": "T4Pzh46aEpIS",
        "outputId": "e852725f-9dab-47d1-8d55-cb9b31b6664b"
      },
      "execution_count": 29,
      "outputs": [
        {
          "output_type": "display_data",
          "data": {
            "text/plain": [
              "<Figure size 864x720 with 30 Axes>"
            ],
            "image/png": "[encoded data removed]"
          },
          "metadata": {
            "needs_background": "light"
          }
        }
      ]
    }
  ]
}